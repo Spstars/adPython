{
 "cells": [
  {
   "cell_type": "code",
   "execution_count": 5,
   "metadata": {},
   "outputs": [
    {
     "name": "stdout",
     "output_type": "stream",
     "text": [
      "1 2 3 12\n",
      "1 2\n",
      "12\n",
      "32\n",
      "42\n",
      "5\n",
      "six 6\n",
      "seven 7\n",
      "0 1 2 3\n"
     ]
    }
   ],
   "source": [
    "#default parameters\n",
    "def foo(a,b,c,d=12):\n",
    "    print(a,b,c,d)\n",
    "\n",
    "foo(a=1,c=3,b=2)\n",
    "#args는 변수, kwargs는 dict\n",
    "# * 뒤의 변수는 keyword arguments가 되어야한다.\n",
    "def foo2(a,b, *args,**kwargs):\n",
    "    print(a,b)\n",
    "    for arg in args:\n",
    "        print(arg)\n",
    "    for key,value in kwargs.items():\n",
    "        print(key,value)\n",
    "\n",
    "foo2(1,2,12,32,42,5,six=6,seven=7)\n",
    "\n",
    "my_list = (0,1,2,3)\n",
    "foo(*my_list)"
   ]
  },
  {
   "cell_type": "code",
   "execution_count": 6,
   "metadata": {},
   "outputs": [
    {
     "name": "stdout",
     "output_type": "stream",
     "text": [
      "[51, 13, 1, 2, 3, 4, 5]\n"
     ]
    }
   ],
   "source": [
    "def two(a_list):\n",
    "    a_list+=[1,2,3,4,5]\n",
    "myList = [51,13]\n",
    "two(myList)\n",
    "print(myList)"
   ]
  }
 ],
 "metadata": {
  "kernelspec": {
   "display_name": "Python 3",
   "language": "python",
   "name": "python3"
  },
  "language_info": {
   "codemirror_mode": {
    "name": "ipython",
    "version": 3
   },
   "file_extension": ".py",
   "mimetype": "text/x-python",
   "name": "python",
   "nbconvert_exporter": "python",
   "pygments_lexer": "ipython3",
   "version": "3.12.2"
  }
 },
 "nbformat": 4,
 "nbformat_minor": 2
}
