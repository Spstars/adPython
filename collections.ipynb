{
 "cells": [
  {
   "cell_type": "code",
   "execution_count": 3,
   "metadata": {},
   "outputs": [
    {
     "name": "stdout",
     "output_type": "stream",
     "text": [
      "Counter({'r': 7, 'e': 6, 'q': 5, 'w': 3})\n",
      "[('r', 7), ('e', 6)]\n"
     ]
    }
   ],
   "source": [
    "#Counter\n",
    "\n",
    "from collections import Counter\n",
    "a = \"qerqerqwerrerqewrqwer\"\n",
    "myCounter = Counter(a)\n",
    "print(myCounter)\n",
    "#returns list((key,value))\n",
    "print(myCounter.most_common(2))"
   ]
  },
  {
   "cell_type": "code",
   "execution_count": 5,
   "metadata": {},
   "outputs": [
    {
     "data": {
      "text/plain": [
       "1"
      ]
     },
     "execution_count": 5,
     "metadata": {},
     "output_type": "execute_result"
    }
   ],
   "source": [
    "#namedTuple\n",
    "from collections import namedtuple\n",
    "Point = namedtuple(\"Point\",\"x,y\")\n",
    "#x,y를 원소로 가지는 클래스 생성.\n",
    "pt =Point(1,-4)\n",
    "pt.x\n"
   ]
  },
  {
   "cell_type": "code",
   "execution_count": 11,
   "metadata": {},
   "outputs": [
    {
     "name": "stdout",
     "output_type": "stream",
     "text": [
      "OrderedDict({'a': 1, 'b': 2, 'c': 3, 'd': 4, 'e': 5})\n",
      "defaultdict(<class 'int'>, {'a': 0, 'b': 2, 'c': 0})\n"
     ]
    }
   ],
   "source": [
    "from collections import OrderedDict,defaultdict\n",
    "\n",
    "order_dict = OrderedDict()\n",
    "\n",
    "order_dict['a'] =1 \n",
    "order_dict['b'] =2 \n",
    "order_dict['c'] =3 \n",
    "order_dict['d'] =4 \n",
    "order_dict['e'] =5 \n",
    "print(order_dict)\n",
    "\n",
    "#파라미터로 보낸값을 기본값으로 가지게 된다\n",
    "d =defaultdict(int)\n",
    "d['a']=0\n",
    "d['b']=2\n",
    "d['c']\n",
    "print(d)"
   ]
  },
  {
   "cell_type": "code",
   "execution_count": 14,
   "metadata": {},
   "outputs": [
    {
     "name": "stdout",
     "output_type": "stream",
     "text": [
      "deque([12, 1, 3, 5, 4])\n"
     ]
    }
   ],
   "source": [
    "from collections import deque\n",
    "\n",
    "#queue 많이 써서 알잖아\n",
    "d = deque()\n",
    "d.append(1)\n",
    "d.append(3)\n",
    "d.append(5)\n",
    "d.append(4)\n",
    "d.appendleft(12)\n",
    "print(d)"
   ]
  }
 ],
 "metadata": {
  "kernelspec": {
   "display_name": "Python 3",
   "language": "python",
   "name": "python3"
  },
  "language_info": {
   "codemirror_mode": {
    "name": "ipython",
    "version": 3
   },
   "file_extension": ".py",
   "mimetype": "text/x-python",
   "name": "python",
   "nbconvert_exporter": "python",
   "pygments_lexer": "ipython3",
   "version": "3.12.2"
  }
 },
 "nbformat": 4,
 "nbformat_minor": 2
}
