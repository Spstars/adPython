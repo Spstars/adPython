{
 "cells": [
  {
   "cell_type": "code",
   "execution_count": 5,
   "metadata": {},
   "outputs": [
    {
     "name": "stdout",
     "output_type": "stream",
     "text": [
      "2024-02-19 11:46:38,376 - simpleExample - DEBUG - this is a debug message\n",
      "2024-02-19 11:46:38,377 - root - ERROR - the error is Traceback (most recent call last):\n",
      "  File \"C:\\Users\\gijin100\\AppData\\Local\\Temp\\ipykernel_15164\\3735670431.py\", line 10, in <module>\n",
      "    val = a[5]\n",
      "          ~^^^\n",
      "IndexError: list index out of range\n",
      "\n"
     ]
    }
   ],
   "source": [
    "import logging\n",
    "import logging.config\n",
    "#이 메소드는 에러 메세지의 상세내용을 찾을 수 있게 한다.\n",
    "import traceback\n",
    "logging.config.fileConfig('log_settings.conf')\n",
    "logger = logging.getLogger(\"simpleExample\")\n",
    "logger.debug(\"this is a debug message\")\n",
    "\n",
    "try :\n",
    "    a= [1,2,3,4]\n",
    "    val = a[5]\n",
    "except Exception as e:\n",
    "    logging.error(\"the error is %s\",traceback.format_exc())\n"
   ]
  }
 ],
 "metadata": {
  "kernelspec": {
   "display_name": "Python 3",
   "language": "python",
   "name": "python3"
  },
  "language_info": {
   "codemirror_mode": {
    "name": "ipython",
    "version": 3
   },
   "file_extension": ".py",
   "mimetype": "text/x-python",
   "name": "python",
   "nbconvert_exporter": "python",
   "pygments_lexer": "ipython3",
   "version": "3.12.2"
  }
 },
 "nbformat": 4,
 "nbformat_minor": 2
}
