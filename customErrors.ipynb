{
 "cells": [
  {
   "cell_type": "code",
   "execution_count": 3,
   "metadata": {},
   "outputs": [
    {
     "name": "stdout",
     "output_type": "stream",
     "text": [
      "Value over 1000\n",
      "fin\n"
     ]
    }
   ],
   "source": [
    "#class\n",
    "#Exception을 상속, 에러를 만들자.\n",
    "\n",
    "class MyValueHighError(Exception):\n",
    "    pass\n",
    "class MyValueSmallError(Exception):\n",
    "    def __init__(self, message,value):\n",
    "        self.message = message\n",
    "        self.value = value\n",
    "def testValue(v):\n",
    "    if v > 1000:\n",
    "        raise MyValueHighError(\"Value over 1000\")\n",
    "    elif v<0:\n",
    "            raise MyValueSmallError(\"Value under 0\", v)\n",
    "\n",
    "    \n",
    "\n",
    "try :\n",
    "    testValue(11111)\n",
    "except MyValueHighError as e :\n",
    "    print(e)\n",
    "except MyValueSmallError as e :\n",
    "    print(e.message,e.value)\n",
    "finally:\n",
    "    print(\"fin\")"
   ]
  }
 ],
 "metadata": {
  "kernelspec": {
   "display_name": "Python 3",
   "language": "python",
   "name": "python3"
  },
  "language_info": {
   "codemirror_mode": {
    "name": "ipython",
    "version": 3
   },
   "file_extension": ".py",
   "mimetype": "text/x-python",
   "name": "python",
   "nbconvert_exporter": "python",
   "pygments_lexer": "ipython3",
   "version": "3.12.2"
  }
 },
 "nbformat": 4,
 "nbformat_minor": 2
}
