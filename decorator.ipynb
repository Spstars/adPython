{
 "cells": [
  {
   "cell_type": "code",
   "execution_count": 5,
   "metadata": {},
   "outputs": [
    {
     "name": "stdout",
     "output_type": "stream",
     "text": [
      "start\n",
      "end\n",
      "10\n",
      "Help on function add5 in module __main__:\n",
      "\n",
      "add5(x)\n",
      "\n",
      "None\n",
      "add5\n"
     ]
    }
   ],
   "source": [
    "#function decorators\n",
    "#decorator는 다른 함수를 입력으로 받아, 함수를 확장하는 것을 돕는다.\n",
    "import functools\n",
    "\n",
    "def start_end_decorator(func):\n",
    "    #함수의 원래 정보를 저장한다.\n",
    "    #없으면 wrapper가 저장된다.\n",
    "    @functools.wraps(func)\n",
    "    def wrapper(*arg, **kargs):\n",
    "        #do something before\n",
    "        print(\"start\")\n",
    "        result= func(*arg,**kargs)\n",
    "        print(\"end\")\n",
    "        #do something after\n",
    "        return result\n",
    "    return wrapper\n",
    "\n",
    "#debug function을 정의한다.\n",
    "def debug(func):\n",
    "    @functools.wraps(func)\n",
    "    def wrapper(*args, **kwargs):\n",
    "        args_repr = [repr(a) for a in args]\n",
    "        kwargs_repr = [f\"{k}={v!r}\" for k, v in kwargs.items()]\n",
    "        signature = \", \".join(args_repr + kwargs_repr)\n",
    "        print(f\"Calling {func.__name__}({signature})\")\n",
    "        result = func(*args, **kwargs)\n",
    "        print(f\"{func.__name__!r} returned {result!r}\")\n",
    "        return result\n",
    "    return wrapper\n",
    "\n",
    "@start_end_decorator\n",
    "def print_name():\n",
    "    print(\"Alex\")\n",
    "\n",
    "@start_end_decorator\n",
    "def add5(x):\n",
    "    return x+5\n",
    "#print_name = start_end_decorator(print_name)\n",
    "result= add5(5)\n",
    "print(result)\n",
    "\n",
    "print(help(add5))\n",
    "print(add5.__name__)"
   ]
  },
  {
   "cell_type": "code",
   "execution_count": 6,
   "metadata": {},
   "outputs": [
    {
     "name": "stdout",
     "output_type": "stream",
     "text": [
      "hi gi chun\n",
      "hi gi chun\n",
      "hi gi chun\n",
      "hi gi chun\n"
     ]
    }
   ],
   "source": [
    "#class decorators\n",
    "\n",
    "def repeat(num_times):\n",
    "    def decorator_repeat(func):\n",
    "        @functools.wraps(func)\n",
    "        def wrapper(*args,**kwargs):\n",
    "            for _ in range(num_times):\n",
    "                result = func(*args,**kwargs)\n",
    "            return result\n",
    "        return wrapper\n",
    "    return decorator_repeat\n",
    "@repeat(num_times=4)\n",
    "def greet(name):\n",
    "    print(f\"hi {name}\")\n",
    "\n",
    "greet(\"gi chun\")"
   ]
  },
  {
   "cell_type": "code",
   "execution_count": 9,
   "metadata": {},
   "outputs": [
    {
     "name": "stdout",
     "output_type": "stream",
     "text": [
      "num_calls :  1\n",
      "hello\n",
      "num_calls :  2\n",
      "hello\n",
      "num_calls :  3\n",
      "hello\n"
     ]
    }
   ],
   "source": [
    "#class decorator\n",
    "class CountCalls:\n",
    "    def __init__(self,func):\n",
    "        self.func = func\n",
    "        self.num_calls = 0\n",
    "    def __call__(self, *args, **kwargs):\n",
    "        self.num_calls+=1\n",
    "        print(\"num_calls : \",self.num_calls)\n",
    "        return self.func(*args,**kwargs)\n",
    "\n",
    "@CountCalls\n",
    "def say_hello():\n",
    "    print(\"hello\")\n",
    "\n",
    "# cc=CountCalls(None)\n",
    "# cc()\n",
    "say_hello()\n",
    "say_hello()\n",
    "say_hello()"
   ]
  },
  {
   "cell_type": "code",
   "execution_count": 5,
   "metadata": {},
   "outputs": [
    {
     "name": "stdout",
     "output_type": "stream",
     "text": [
      "False\n",
      "<class 'numpy.ndarray'> <class 'list'>\n"
     ]
    }
   ],
   "source": [
    "import numpy as np\n",
    "print(isinstance(np.array([1,2,3,]),list))\n",
    "print(type(np.array([1,2,3,])), type([1,2,3]))"
   ]
  },
  {
   "cell_type": "code",
   "execution_count": 12,
   "metadata": {},
   "outputs": [
    {
     "name": "stdout",
     "output_type": "stream",
     "text": [
      "66\n",
      "66\n",
      "(11, 0)\n"
     ]
    },
    {
     "ename": "MyCustomNpError",
     "evalue": "not a ndarray, or list",
     "output_type": "error",
     "traceback": [
      "\u001b[1;31m---------------------------------------------------------------------------\u001b[0m",
      "\u001b[1;31mMyCustomNpError\u001b[0m                           Traceback (most recent call last)",
      "Cell \u001b[1;32mIn[12], line 30\u001b[0m\n\u001b[0;32m     28\u001b[0m \u001b[38;5;28mprint\u001b[39m(sum_array(x))\n\u001b[0;32m     29\u001b[0m \u001b[38;5;28mprint\u001b[39m(amax_amin_array(X))\n\u001b[1;32m---> 30\u001b[0m \u001b[38;5;28mprint\u001b[39m(\u001b[43mamax_amin_array\u001b[49m\u001b[43m(\u001b[49m\u001b[43mx2\u001b[49m\u001b[43m)\u001b[49m)\n",
      "Cell \u001b[1;32mIn[12], line 13\u001b[0m, in \u001b[0;36mvalidate_np_array.<locals>.decorated_func\u001b[1;34m(array)\u001b[0m\n\u001b[0;32m     11\u001b[0m     \u001b[38;5;28;01mreturn\u001b[39;00m  func(array)\n\u001b[0;32m     12\u001b[0m \u001b[38;5;28;01melse\u001b[39;00m:\n\u001b[1;32m---> 13\u001b[0m     \u001b[38;5;28;01mraise\u001b[39;00m MyCustomNpError(\u001b[38;5;124m\"\u001b[39m\u001b[38;5;124mnot a ndarray, or list\u001b[39m\u001b[38;5;124m\"\u001b[39m)\n",
      "\u001b[1;31mMyCustomNpError\u001b[0m: not a ndarray, or list"
     ]
    }
   ],
   "source": [
    "import numpy as np\n",
    "\n",
    "class MyCustomNpError(Exception):\n",
    "    pass\n",
    "\n",
    "def validate_np_array(func):\n",
    "    def decorated_func(array):\n",
    "        if isinstance(array,np.ndarray):\n",
    "            return func(array)\n",
    "        elif isinstance(array,list):\n",
    "            return  func(np.array(array))\n",
    "        else:\n",
    "            raise MyCustomNpError(\"not a ndarray, or list\")\n",
    "    return decorated_func\n",
    "\n",
    "\n",
    "X= np.arange(0,12,1).reshape(3,-1)\n",
    "x= list(range(0,12))\n",
    "x2= range(0,12)\n",
    "@validate_np_array\n",
    "def sum_array(x):\n",
    "    return np.sum(x)\n",
    "@validate_np_array\n",
    "def amax_amin_array(x):\n",
    "    return np.amax(x),np.amin(x)\n",
    "\n",
    "print(sum_array(X))\n",
    "print(sum_array(x))\n",
    "print(amax_amin_array(X))\n",
    "print(amax_amin_array(x2))"
   ]
  }
 ],
 "metadata": {
  "kernelspec": {
   "display_name": "Python 3",
   "language": "python",
   "name": "python3"
  },
  "language_info": {
   "codemirror_mode": {
    "name": "ipython",
    "version": 3
   },
   "file_extension": ".py",
   "mimetype": "text/x-python",
   "name": "python",
   "nbconvert_exporter": "python",
   "pygments_lexer": "ipython3",
   "version": "3.12.2"
  }
 },
 "nbformat": 4,
 "nbformat_minor": 2
}
