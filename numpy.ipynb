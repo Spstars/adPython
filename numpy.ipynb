{
 "cells": [
  {
   "cell_type": "code",
   "execution_count": 3,
   "metadata": {},
   "outputs": [
    {
     "name": "stdout",
     "output_type": "stream",
     "text": [
      "(3, 5)\n",
      "2\n",
      "int32\n",
      "4\n",
      "15\n"
     ]
    }
   ],
   "source": [
    "import numpy as np \n",
    "a= np.arange(15).reshape(3,5)\n",
    "arr1= np.array([[1,2,3,4,5],[3,4,5,6,7,],[9,8,7,6,5]])\n",
    "\n",
    "print(arr1.shape)\n",
    "print(arr1.ndim)\n",
    "print(arr1.dtype.name)\n",
    "print(a.itemsize)\n",
    "print(a.size)\n",
    "\n"
   ]
  },
  {
   "cell_type": "code",
   "execution_count": 5,
   "metadata": {},
   "outputs": [
    {
     "name": "stdout",
     "output_type": "stream",
     "text": [
      "[0 1 2 3]\n",
      "[20 29 38 47]\n"
     ]
    },
    {
     "data": {
      "text/plain": [
       "array([ True,  True, False, False])"
      ]
     },
     "execution_count": 5,
     "metadata": {},
     "output_type": "execute_result"
    }
   ],
   "source": [
    "a= np.array([20,30,40,50])\n",
    "b= np.arange(4)\n",
    "print(b)\n",
    "print(a-b)\n",
    "b**2\n",
    "10*np.sin(a)\n",
    "a<35"
   ]
  },
  {
   "cell_type": "code",
   "execution_count": 53,
   "metadata": {},
   "outputs": [
    {
     "name": "stdout",
     "output_type": "stream",
     "text": [
      "[[3.12281028 3.09580653 3.18705746]\n",
      " [3.09252743 3.47113108 3.05013877]]\n",
      "[[0.30623346 0.90810374 0.80378006]\n",
      " [0.78947553 0.16545127 0.52879239]]\n",
      "3.5018364561821484\n",
      "0.16545126927934228\n",
      "0.908103744505798\n",
      "[[ 0  1  2  3]\n",
      " [ 4  5  6  7]\n",
      " [ 8  9 10 11]]\n",
      "[12 15 18 21]\n",
      "[ 6 22 38]\n",
      "[[ 0  1  2  3]\n",
      " [ 4  6  8 10]\n",
      " [12 15 18 21]]\n",
      "[[ 0  1  3  6]\n",
      " [ 4  9 15 22]\n",
      " [ 8 17 27 38]]\n"
     ]
    }
   ],
   "source": [
    "#arange \n",
    "np.arange(0,2,0.3)\n",
    "\n",
    "\n",
    "#operation rules  *= and +=\n",
    "#dtype int로 강제되면 그런 일 생김\n",
    "a= np.ones((2,3),dtype=int)\n",
    "b=np.random.random((2,3))\n",
    "\n",
    "a*=3\n",
    "b+=a\n",
    "print(b)\n",
    "# a+=b\n",
    "a = np.random.random((2,3))\n",
    "print(a)\n",
    "print(a.sum())\n",
    "print(a.min())\n",
    "print(a.max())\n",
    "\n",
    "b= np.arange(12).reshape(3,-1)\n",
    "print(b)\n",
    "print(b.sum(axis=0))\n",
    "print(b.sum(axis=1))\n",
    "print(b.cumsum(axis=0))\n",
    "print(b.cumsum(axis=1))"
   ]
  },
  {
   "cell_type": "code",
   "execution_count": null,
   "metadata": {},
   "outputs": [],
   "source": []
  },
  {
   "cell_type": "code",
   "execution_count": 15,
   "metadata": {},
   "outputs": [
    {
     "data": {
      "text/plain": [
       "array([[5, 4],\n",
       "       [3, 4]])"
      ]
     },
     "execution_count": 15,
     "metadata": {},
     "output_type": "execute_result"
    }
   ],
   "source": [
    "A= np.array([[1,1],[0,1]])\n",
    "B= np.array([[2,0],[3,4]])\n",
    "A * B\n",
    "# 행렬곱\n",
    "A.dot(B)\n",
    "A@B"
   ]
  },
  {
   "cell_type": "code",
   "execution_count": 16,
   "metadata": {},
   "outputs": [
    {
     "name": "stdout",
     "output_type": "stream",
     "text": [
      "42\n"
     ]
    }
   ],
   "source": [
    "#Universal Func\n",
    "\n",
    "B= np.arange(3)\n",
    "print(B)\n",
    "print(np.exp(B))\n",
    "print(np.sqrt(B))\n"
   ]
  },
  {
   "cell_type": "code",
   "execution_count": 35,
   "metadata": {},
   "outputs": [
    {
     "name": "stdout",
     "output_type": "stream",
     "text": [
      "[[8]\n",
      " [3]\n",
      " [4]\n",
      " [3]\n",
      " [2]]\n",
      "[31.69344748 26.70633849  4.44470128 11.77394296 13.16387117]\n",
      "[[253.54757984 213.65070792  35.55761023  94.19154372 105.31096936]\n",
      " [ 95.08034244  80.11901547  13.33410384  35.32182889  39.49161351]\n",
      " [126.77378992 106.82535396  17.77880512  47.09577186  52.65548468]\n",
      " [ 95.08034244  80.11901547  13.33410384  35.32182889  39.49161351]\n",
      " [ 63.38689496  53.41267698   8.88940256  23.54788593  26.32774234]]\n"
     ]
    }
   ],
   "source": [
    "#기울기\n",
    "rx = np.array([np.random.randint(0,10,size=5)]).T\n",
    "#X좌표\n",
    "X = np.random.uniform(low=0, high=50,size=5)\n",
    "print(rx)\n",
    "print(X)\n",
    "print(X*rx)"
   ]
  },
  {
   "cell_type": "code",
   "execution_count": 39,
   "metadata": {},
   "outputs": [
    {
     "name": "stdout",
     "output_type": "stream",
     "text": [
      "[b'1' b'2' b'3' b'4']\n"
     ]
    }
   ],
   "source": [
    "#Numpy DataTypes \n",
    "\"\"\"\n",
    "i - integer\n",
    "b - boolean\n",
    "u - unsigned integer\n",
    "f - float\n",
    "c - complex float\n",
    "m - timedelta\n",
    "M - datetime\n",
    "O - object\n",
    "S - string\n",
    "U - unicode string\n",
    "V - fixed chunk of memory for other type ( void )\"\"\"\n",
    "import numpy as np\n",
    "arr = np.array([1,2,3,4],dtype=\"c\")\n",
    "\n",
    "print(arr)"
   ]
  },
  {
   "cell_type": "code",
   "execution_count": 58,
   "metadata": {},
   "outputs": [
    {
     "name": "stdout",
     "output_type": "stream",
     "text": [
      "[  0   1   8  27  64 125 216 343 512 729]\n",
      "[0 1]\n",
      "[ 8 27 64]\n",
      "[-100    1 -100   27 -100  125 -100  343 -100  729]\n",
      "nan\n",
      "1.0\n",
      "nan\n",
      "3.0\n",
      "nan\n",
      "5.0\n",
      "nan\n",
      "6.999999999999999\n",
      "nan\n",
      "8.999999999999998\n"
     ]
    },
    {
     "name": "stderr",
     "output_type": "stream",
     "text": [
      "C:\\Users\\gijin100\\AppData\\Local\\Temp\\ipykernel_29672\\2816885278.py:8: RuntimeWarning: invalid value encountered in power\n",
      "  print(i**(1/3))\n"
     ]
    }
   ],
   "source": [
    "a= np.arange(10) **3\n",
    "print(a)\n",
    "print(a[:2])\n",
    "print(a[2:5])\n",
    "a[::2]=-100\n",
    "print(a)\n",
    "for i in a:\n",
    "    print(i**(1/3))"
   ]
  },
  {
   "cell_type": "code",
   "execution_count": 5,
   "metadata": {},
   "outputs": [
    {
     "name": "stdout",
     "output_type": "stream",
     "text": [
      "[[8. 4. 5. 7.]\n",
      " [0. 8. 2. 8.]\n",
      " [9. 4. 7. 1.]]\n",
      "(3, 4)\n",
      "[8. 4. 5. 7. 0. 8. 2. 8. 9. 4. 7. 1.]\n"
     ]
    },
    {
     "ename": "ValueError",
     "evalue": "axes don't match array",
     "output_type": "error",
     "traceback": [
      "\u001b[1;31m---------------------------------------------------------------------------\u001b[0m",
      "\u001b[1;31mValueError\u001b[0m                                Traceback (most recent call last)",
      "Cell \u001b[1;32mIn[5], line 8\u001b[0m\n\u001b[0;32m      6\u001b[0m \u001b[38;5;28mprint\u001b[39m(a\u001b[38;5;241m.\u001b[39mravel())\n\u001b[0;32m      7\u001b[0m A \u001b[38;5;241m=\u001b[39m a\u001b[38;5;241m.\u001b[39mreshape(\u001b[38;5;241m6\u001b[39m,\u001b[38;5;241m2\u001b[39m)\n\u001b[1;32m----> 8\u001b[0m \u001b[38;5;28mprint\u001b[39m(\u001b[43mA\u001b[49m\u001b[38;5;241;43m.\u001b[39;49m\u001b[43mtranspose\u001b[49m\u001b[43m(\u001b[49m\u001b[38;5;241;43m-\u001b[39;49m\u001b[38;5;241;43m1\u001b[39;49m\u001b[43m)\u001b[49m)\n",
      "\u001b[1;31mValueError\u001b[0m: axes don't match array"
     ]
    }
   ],
   "source": [
    "#shape Manipulatioon\n",
    "import numpy as np\n",
    "a = np.floor(10*np.random.random((3,4)))\n",
    "print(a)\n",
    "print(a.shape)\n",
    "print(a.ravel())\n",
    "A = a.reshape(6,2)\n",
    "print(A.transpose(-1))"
   ]
  },
  {
   "cell_type": "code",
   "execution_count": 9,
   "metadata": {},
   "outputs": [
    {
     "name": "stdout",
     "output_type": "stream",
     "text": [
      "[[5. 6.]\n",
      " [2. 0.]]\n",
      "[[8. 7.]\n",
      " [3. 7.]]\n",
      "[[5. 6.]\n",
      " [2. 0.]\n",
      " [8. 7.]\n",
      " [3. 7.]]\n",
      "[[5. 6. 8. 7.]\n",
      " [2. 0. 3. 7.]]\n"
     ]
    }
   ],
   "source": [
    "a= np.floor(10*np.random.random((2,2,)))\n",
    "b = np.floor(10*np.random.random((2,2)))\n",
    "\n",
    "print(a)\n",
    "print(b)\n",
    "print(np.vstack((a,b)))\n",
    "print(np.hstack((a,b,)))\n"
   ]
  },
  {
   "cell_type": "code",
   "execution_count": 2,
   "metadata": {},
   "outputs": [
    {
     "ename": "NameError",
     "evalue": "name 'a' is not defined",
     "output_type": "error",
     "traceback": [
      "\u001b[1;31m---------------------------------------------------------------------------\u001b[0m",
      "\u001b[1;31mNameError\u001b[0m                                 Traceback (most recent call last)",
      "Cell \u001b[1;32mIn[2], line 2\u001b[0m\n\u001b[0;32m      1\u001b[0m \u001b[38;5;28;01mfrom\u001b[39;00m \u001b[38;5;21;01mnumpy\u001b[39;00m \u001b[38;5;28;01mimport\u001b[39;00m newaxis\n\u001b[1;32m----> 2\u001b[0m np\u001b[38;5;241m.\u001b[39mcolumn_stack((\u001b[43ma\u001b[49m,b,))\n\u001b[0;32m      3\u001b[0m a\u001b[38;5;241m=\u001b[39m np\u001b[38;5;241m.\u001b[39marray([\u001b[38;5;241m4\u001b[39m,\u001b[38;5;241m2\u001b[39m])\n\u001b[0;32m      4\u001b[0m b \u001b[38;5;241m=\u001b[39m np\u001b[38;5;241m.\u001b[39marray([\u001b[38;5;241m3\u001b[39m,\u001b[38;5;241m8\u001b[39m])\n",
      "\u001b[1;31mNameError\u001b[0m: name 'a' is not defined"
     ]
    }
   ],
   "source": [
    "from numpy import newaxis\n",
    "np.column_stack((a,b,))\n",
    "a= np.array([4,2])\n",
    "b = np.array([3,8])\n",
    "np.column_stack((a[:],b))\n",
    "print(np.hstack((a,b)))\n",
    "print(a[:newaxis])"
   ]
  },
  {
   "cell_type": "code",
   "execution_count": 30,
   "metadata": {},
   "outputs": [
    {
     "name": "stdout",
     "output_type": "stream",
     "text": [
      "[[8. 0. 6. 3. 7. 0. 0. 9. 7. 2. 5. 2.]\n",
      " [1. 3. 2. 1. 9. 1. 3. 9. 2. 2. 2. 3.]]\n",
      "[[8. 0. 6.]\n",
      " [1. 3. 2.]]\n",
      "[[3.]\n",
      " [1.]]\n",
      "[[7.]\n",
      " [9.]]\n",
      "[[0. 0. 9. 7. 2. 5. 2.]\n",
      " [1. 3. 9. 2. 2. 2. 3.]]\n"
     ]
    }
   ],
   "source": [
    "#Splitting one array into several smaller ones\n",
    "a2 =np.floor(10*np.random.random((2,12)))\n",
    "print(a2)\n",
    "#a2를 3개로 나눈다.\n",
    "np.hsplit(a2,3)\n",
    "#a2를 자르는데, 3번째까지로 한번 나누고, 4번재 포함.\n",
    "k =np.hsplit(a2,(3,4,5))\n",
    "for n in k:\n",
    "    print(n)"
   ]
  },
  {
   "cell_type": "code",
   "execution_count": 35,
   "metadata": {},
   "outputs": [
    {
     "data": {
      "text/plain": [
       "False"
      ]
     },
     "execution_count": 35,
     "metadata": {},
     "output_type": "execute_result"
    }
   ],
   "source": [
    "#simple copy  b=a로 하면 그냥 주소 복사한다.\n",
    "a= np.arange(12)\n",
    "b = a \n",
    "b is a\n",
    "#얕은 복사\n",
    "\n",
    "view_A = a.view()\n",
    "view_A is a\n",
    "\n",
    "slice_A = a[:]\n",
    "slice_A is A\n",
    "#깊은 복사\n",
    "\n",
    "deep_A = a.copy()\n",
    "deep_A is a"
   ]
  },
  {
   "cell_type": "code",
   "execution_count": 4,
   "metadata": {},
   "outputs": [
    {
     "name": "stdout",
     "output_type": "stream",
     "text": [
      "[[3. 1. 2. 4. 7. 2. 0. 9. 7. 7. 8. 7.]\n",
      " [5. 2. 9. 4. 1. 4. 3. 3. 0. 1. 1. 8.]]\n"
     ]
    }
   ],
   "source": [
    "import numpy as np\n",
    "\n",
    "a= np.floor(10 * np.random.random((2,12)))\n",
    "print(a)"
   ]
  },
  {
   "cell_type": "code",
   "execution_count": 38,
   "metadata": {},
   "outputs": [
    {
     "name": "stdout",
     "output_type": "stream",
     "text": [
      "[ 2  4  6 12 14]\n"
     ]
    },
    {
     "data": {
      "text/plain": [
       "array([[ 6,  8],\n",
       "       [18, 14]])"
      ]
     },
     "execution_count": 38,
     "metadata": {},
     "output_type": "execute_result"
    }
   ],
   "source": [
    "#numpy indexing\n",
    "a = np.arange(12)*2\n",
    "i= np.array([1,2,3,6,7])\n",
    "#괄호안에 i가 들어갈 수 있다.\n",
    "print(a[i])\n",
    "#shape는 j의 그것으로 reshape되어 출력된다.\n",
    "j = np.array([[3,4],[9,7]])\n",
    "a[j]\n"
   ]
  },
  {
   "cell_type": "code",
   "execution_count": 3,
   "metadata": {},
   "outputs": [
    {
     "name": "stdout",
     "output_type": "stream",
     "text": [
      "None\n",
      "[1 2 3 4 5]\n",
      "[1 2 3 4 5]\n",
      "[ 1 42  3 21  5]\n"
     ]
    }
   ],
   "source": [
    "import numpy as np\n",
    "#view,,copyreshape ,concat,concentrate \n",
    "#view는 오리진 어레이를 view해줄 뿐이지만, copy는 직접 값을 복사해온다.\n",
    "#view는 원본이 바뀌면 같이 바뀌지만 copy는 그렇지 않다.\n",
    " \n",
    "orgin_arr = np.array([1,2,3,4,5])\n",
    "X_copy = orgin_arr.copy()\n",
    "X_view = orgin_arr.view()\n",
    "print(X_copy.base)\n",
    "print(X_view.base)\n",
    "orgin_arr[1]=42\n",
    "X_view[3]=21\n",
    "print(X_copy)\n",
    "print(X_view)\n",
    "\n"
   ]
  }
 ],
 "metadata": {
  "kernelspec": {
   "display_name": "Python 3",
   "language": "python",
   "name": "python3"
  },
  "language_info": {
   "codemirror_mode": {
    "name": "ipython",
    "version": 3
   },
   "file_extension": ".py",
   "mimetype": "text/x-python",
   "name": "python",
   "nbconvert_exporter": "python",
   "pygments_lexer": "ipython3",
   "version": "3.12.2"
  }
 },
 "nbformat": 4,
 "nbformat_minor": 2
}
