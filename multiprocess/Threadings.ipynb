{
 "cells": [
  {
   "cell_type": "code",
   "execution_count": 7,
   "metadata": {},
   "outputs": [
    {
     "name": "stdout",
     "output_type": "stream",
     "text": [
      "14\n"
     ]
    }
   ],
   "source": [
    "#https://www.python-engineer.com/courses/advancedpython/15-thread-vs-process/\n",
    "\n",
    "# cpython 에서 변수추적을 하는데, race condition에 빠지면 threading에 좋지 않다.\n",
    "#\n",
    "from multiprocessing import Process\n",
    "import os \n",
    "processes = []\n",
    "num_processes = os.cpu_count()//2\n",
    "print(num_processes)\n",
    "\n",
    "def square_num():\n",
    "    for i in range(100):\n",
    "        i * i\n",
    "\n",
    "\n",
    "for i in range(num_processes):\n",
    "    p =Process(target=square_num)\n",
    "    processes.append(p)\n",
    "for p in processes:\n",
    "    p.start()\n",
    "for p in processes:\n",
    "    p.join()\n"
   ]
  },
  {
   "cell_type": "code",
   "execution_count": null,
   "metadata": {},
   "outputs": [],
   "source": []
  }
 ],
 "metadata": {
  "kernelspec": {
   "display_name": "Python 3",
   "language": "python",
   "name": "python3"
  },
  "language_info": {
   "codemirror_mode": {
    "name": "ipython",
    "version": 3
   },
   "file_extension": ".py",
   "mimetype": "text/x-python",
   "name": "python",
   "nbconvert_exporter": "python",
   "pygments_lexer": "ipython3",
   "version": "3.12.2"
  }
 },
 "nbformat": 4,
 "nbformat_minor": 2
}
