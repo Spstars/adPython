{
 "cells": [
  {
   "cell_type": "code",
   "execution_count": 2,
   "metadata": {},
   "outputs": [],
   "source": [
    "with open('notes.txt','w') as file:\n",
    "    file.write(\"haha\")\n",
    "\n",
    "#with을 쓰지 않으면..\n",
    "file = open(\"notes.txt\",'w')\n",
    "try : \n",
    "    file.write(\"hahahaha\")\n",
    "finally:\n",
    "    file.close()\n",
    "\n",
    "from threading import Lock\n",
    "def example():\n",
    "    lock = Lock()\n",
    "    with lock:\n",
    "        print(\"do something\")\n",
    "    #with을 쓰지 않으면..\n",
    "    lock.acquire()\n",
    "    print(\"do something\")\n",
    "    lock.release()\n"
   ]
  }
 ],
 "metadata": {
  "kernelspec": {
   "display_name": "Python 3",
   "language": "python",
   "name": "python3"
  },
  "language_info": {
   "codemirror_mode": {
    "name": "ipython",
    "version": 3
   },
   "file_extension": ".py",
   "mimetype": "text/x-python",
   "name": "python",
   "nbconvert_exporter": "python",
   "pygments_lexer": "ipython3",
   "version": "3.12.2"
  }
 },
 "nbformat": 4,
 "nbformat_minor": 2
}
