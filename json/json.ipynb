{
 "cells": [
  {
   "cell_type": "code",
   "execution_count": 4,
   "metadata": {},
   "outputs": [
    {
     "name": "stdout",
     "output_type": "stream",
     "text": [
      "{\n",
      "    \"age\": 28,\n",
      "    \"children\": [\n",
      "        {\n",
      "            \"age\": 5,\n",
      "            \"firstName\": \"Alex\"\n",
      "        },\n",
      "        {\n",
      "            \"age\": 7,\n",
      "            \"firstName\": \"Bob\"\n",
      "        }\n",
      "    ],\n",
      "    \"firstName\": \"Jane\",\n",
      "    \"hobbies\": [\n",
      "        \"running\",\n",
      "        \"swimming\",\n",
      "        \"singing\"\n",
      "    ],\n",
      "    \"lastName\": \"Doe\"\n",
      "}\n"
     ]
    }
   ],
   "source": [
    "import json\n",
    "sample ={\n",
    "    \"firstName\": \"Jane\",\n",
    "    \"lastName\": \"Doe\",\n",
    "    \"hobbies\": [\"running\", \"swimming\", \"singing\"],\n",
    "    \"age\": 28,\n",
    "    \"children\": [\n",
    "        {\n",
    "            \"firstName\": \"Alex\",\n",
    "            \"age\": 5\n",
    "        },\n",
    "        {\n",
    "            \"firstName\": \"Bob\",\n",
    "            \"age\": 7\n",
    "        }\n",
    "    ]\n",
    "}\n",
    "personJson = json.dumps(sample,indent=4,sort_keys=True)\n",
    "print(personJson)\n",
    "with open('person.json',\"w\") as f:\n",
    "    json.dump(sample,f,indent=4)\n"
   ]
  },
  {
   "cell_type": "code",
   "execution_count": 3,
   "metadata": {},
   "outputs": [
    {
     "name": "stdout",
     "output_type": "stream",
     "text": [
      "{'firstName': 'Jane', 'lastName': 'Doe', 'hobbies': ['running', 'swimming', 'singing'], 'age': 28, 'children': [{'firstName': 'Alex', 'age': 5}, {'firstName': 'Bob', 'age': 7}]}\n"
     ]
    }
   ],
   "source": [
    "import json\n",
    "with open(\"./person.json\",\"r\") as f:\n",
    "    person = json.load(f)\n",
    "    print(person)"
   ]
  },
  {
   "cell_type": "code",
   "execution_count": 4,
   "metadata": {},
   "outputs": [
    {
     "name": "stdout",
     "output_type": "stream",
     "text": [
      "{\"name\": \"Lee\", \"age\": 27}\n"
     ]
    }
   ],
   "source": [
    "import json\n",
    "class User:\n",
    "    def __init__(self,name,age) -> None:\n",
    "        self.name = name\n",
    "        self.age = age\n",
    "user = User(\"Lee\",27)\n",
    "def encode_user(o):\n",
    "    if isinstance(o,User):\n",
    "        return {\"name\" :o.name,\"age\":o.age}\n",
    "    else:\n",
    "        raise TypeError(\"not a User Object\")\n",
    "\n",
    "class UserEncoder(json.JSONDecoder):\n",
    "    def default(self,o):\n",
    "        \n",
    "\n",
    "userJson = json.dumps(user,default=encode_user)\n",
    "print(userJson)"
   ]
  },
  {
   "cell_type": "code",
   "execution_count": null,
   "metadata": {},
   "outputs": [],
   "source": [
    "import numpy as np\n",
    "\n"
   ]
  }
 ],
 "metadata": {
  "kernelspec": {
   "display_name": "Python 3",
   "language": "python",
   "name": "python3"
  },
  "language_info": {
   "codemirror_mode": {
    "name": "ipython",
    "version": 3
   },
   "file_extension": ".py",
   "mimetype": "text/x-python",
   "name": "python",
   "nbconvert_exporter": "python",
   "pygments_lexer": "ipython3",
   "version": "3.12.2"
  }
 },
 "nbformat": 4,
 "nbformat_minor": 2
}
